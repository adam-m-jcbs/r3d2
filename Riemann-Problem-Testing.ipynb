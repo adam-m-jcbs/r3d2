{
 "cells": [
  {
   "cell_type": "code",
   "execution_count": 1,
   "metadata": {
    "collapsed": false
   },
   "outputs": [],
   "source": [
    "import SR1d"
   ]
  },
  {
   "cell_type": "code",
   "execution_count": 2,
   "metadata": {
    "collapsed": true
   },
   "outputs": [],
   "source": [
    "eos = SR1d.eos_gamma_law(5/3)"
   ]
  },
  {
   "cell_type": "code",
   "execution_count": 3,
   "metadata": {
    "collapsed": false
   },
   "outputs": [
    {
     "data": {
      "text/latex": [
       "$\\begin{pmatrix} \\rho \\\\ v \\\\ \\epsilon \\end{pmatrix}_{L} = \\begin{pmatrix} 1.0000 \\\\ 0.0000 \\\\ 2.0000 \\end{pmatrix}$"
      ],
      "text/plain": [
       "<SR1d.State at 0x106d35978>"
      ]
     },
     "execution_count": 3,
     "metadata": {},
     "output_type": "execute_result"
    }
   ],
   "source": [
    "w_left = SR1d.State(1.0, 0.0, 2.0, eos, label=\"L\")\n",
    "w_left"
   ]
  },
  {
   "cell_type": "code",
   "execution_count": 4,
   "metadata": {
    "collapsed": false
   },
   "outputs": [
    {
     "data": {
      "text/latex": [
       "$\\begin{pmatrix} \\rho \\\\ v \\\\ \\epsilon \\end{pmatrix}_{R} = \\begin{pmatrix} 2.0000 \\\\ 0.0000 \\\\ 1.0000 \\end{pmatrix}$"
      ],
      "text/plain": [
       "<SR1d.State at 0x107720198>"
      ]
     },
     "execution_count": 4,
     "metadata": {},
     "output_type": "execute_result"
    }
   ],
   "source": [
    "w_right = SR1d.State(2.0, 0.0, 1.0, eos, label=\"R\")\n",
    "w_right"
   ]
  },
  {
   "cell_type": "code",
   "execution_count": 5,
   "metadata": {
    "collapsed": false
   },
   "outputs": [
    {
     "name": "stdout",
     "output_type": "stream",
     "text": [
      "Pressures: 1.3333333333333335, 1.3333333333333335\n"
     ]
    }
   ],
   "source": [
    "print(\"Pressures: {}, {}\".format(w_left.p, w_right.p))"
   ]
  },
  {
   "cell_type": "code",
   "execution_count": 6,
   "metadata": {
    "collapsed": false
   },
   "outputs": [
    {
     "data": {
      "text/latex": [
       "${\\cal C}$: $\\lambda^{(1)}$$= 0.0000$"
      ],
      "text/plain": [
       "<SR1d.Wave at 0x107740320>"
      ]
     },
     "execution_count": 6,
     "metadata": {},
     "output_type": "execute_result"
    }
   ],
   "source": [
    "wave = SR1d.Wave(w_left, w_right, 1)\n",
    "wave"
   ]
  },
  {
   "cell_type": "code",
   "execution_count": 7,
   "metadata": {
    "collapsed": false
   },
   "outputs": [
    {
     "data": {
      "text/latex": [
       "$\\begin{pmatrix} \\rho \\\\ v \\\\ \\epsilon \\end{pmatrix}_{*_{L}} = \\begin{pmatrix} 1.0000 \\\\ 0.0000 \\\\ 1.0000 \\end{pmatrix}$"
      ],
      "text/plain": [
       "<SR1d.State at 0x1077402e8>"
      ]
     },
     "execution_count": 7,
     "metadata": {},
     "output_type": "execute_result"
    }
   ],
   "source": [
    "w_star_left = SR1d.State(1.0, 0.0, 1.0, eos, label=r\"*_{L}\")\n",
    "w_star_left"
   ]
  },
  {
   "cell_type": "code",
   "execution_count": 8,
   "metadata": {
    "collapsed": false
   },
   "outputs": [
    {
     "data": {
      "text/plain": [
       "0.6666666666666667"
      ]
     },
     "execution_count": 8,
     "metadata": {},
     "output_type": "execute_result"
    }
   ],
   "source": [
    "w_star_left.p"
   ]
  },
  {
   "cell_type": "code",
   "execution_count": 9,
   "metadata": {
    "collapsed": false
   },
   "outputs": [
    {
     "data": {
      "text/latex": [
       "${\\cal S}_{\\leftarrow}$: $\\lambda^{(0)}$$= -0.6383$"
      ],
      "text/plain": [
       "<SR1d.Wave at 0x1077403c8>"
      ]
     },
     "execution_count": 9,
     "metadata": {},
     "output_type": "execute_result"
    }
   ],
   "source": [
    "shock = SR1d.Wave(w_left, w_star_left.p, 0)\n",
    "shock"
   ]
  },
  {
   "cell_type": "code",
   "execution_count": 10,
   "metadata": {
    "collapsed": false
   },
   "outputs": [
    {
     "data": {
      "text/latex": [
       "$\\begin{pmatrix} \\rho \\\\ v \\\\ \\epsilon \\end{pmatrix}_{*_{R}} = \\begin{pmatrix} 2.0000 \\\\ 0.0000 \\\\ 2.0000 \\end{pmatrix}$"
      ],
      "text/plain": [
       "<SR1d.State at 0x107740438>"
      ]
     },
     "execution_count": 10,
     "metadata": {},
     "output_type": "execute_result"
    }
   ],
   "source": [
    "w_star_right = SR1d.State(2.0, 0.0, 2.0, eos, label=r\"*_{R}\")\n",
    "w_star_right"
   ]
  },
  {
   "cell_type": "code",
   "execution_count": 11,
   "metadata": {
    "collapsed": false
   },
   "outputs": [
    {
     "data": {
      "text/plain": [
       "2.666666666666667"
      ]
     },
     "execution_count": 11,
     "metadata": {},
     "output_type": "execute_result"
    }
   ],
   "source": [
    "w_star_right.p"
   ]
  },
  {
   "cell_type": "code",
   "execution_count": 12,
   "metadata": {
    "collapsed": false
   },
   "outputs": [
    {
     "data": {
      "text/latex": [
       "${\\cal R}_{\\rightarrow}$: $\\lambda^{(2)}$$\\in [0.6439, 0.6455]$"
      ],
      "text/plain": [
       "<SR1d.Wave at 0x107740400>"
      ]
     },
     "execution_count": 12,
     "metadata": {},
     "output_type": "execute_result"
    }
   ],
   "source": [
    "rarefaction = SR1d.Wave(w_right, w_star_right.p, 2)\n",
    "rarefaction"
   ]
  }
 ],
 "metadata": {
  "kernelspec": {
   "display_name": "Python 3",
   "language": "python",
   "name": "python3"
  },
  "language_info": {
   "codemirror_mode": {
    "name": "ipython",
    "version": 3
   },
   "file_extension": ".py",
   "mimetype": "text/x-python",
   "name": "python",
   "nbconvert_exporter": "python",
   "pygments_lexer": "ipython3",
   "version": "3.4.3"
  }
 },
 "nbformat": 4,
 "nbformat_minor": 0
}
