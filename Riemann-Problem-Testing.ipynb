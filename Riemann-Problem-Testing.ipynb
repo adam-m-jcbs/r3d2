{
 "cells": [
  {
   "cell_type": "code",
   "execution_count": 1,
   "metadata": {
    "collapsed": true
   },
   "outputs": [],
   "source": [
    "import SR1d"
   ]
  },
  {
   "cell_type": "code",
   "execution_count": 2,
   "metadata": {
    "collapsed": true
   },
   "outputs": [],
   "source": [
    "eos = SR1d.eos_gamma_law(5/3)"
   ]
  },
  {
   "cell_type": "code",
   "execution_count": 3,
   "metadata": {
    "collapsed": false
   },
   "outputs": [
    {
     "data": {
      "text/latex": [
       "$\\begin{{pmatrix}} \\rho \\\\ v \\\\ \\epsilon \\end{{pmatrix}}_{left} = \\begin{pmatrix} 1.0000 \\\\ 0.0000 \\\\ 2.0000 \\end{pmatrix}$"
      ],
      "text/plain": [
       "<SR1d.State instance at 0x7fd8bcabaab8>"
      ]
     },
     "execution_count": 3,
     "metadata": {},
     "output_type": "execute_result"
    }
   ],
   "source": [
    "w_left = SR1d.State(1.0, 0.0, 2.0, eos, label=\"left\")\n",
    "w_left"
   ]
  },
  {
   "cell_type": "code",
   "execution_count": 4,
   "metadata": {
    "collapsed": false
   },
   "outputs": [
    {
     "data": {
      "text/latex": [
       "$\\begin{{pmatrix}} \\rho \\\\ v \\\\ \\epsilon \\end{{pmatrix}}_{left} = \\begin{pmatrix} 1.0000 \\\\ 0.0000 \\\\ 2.0000 \\end{pmatrix}$"
      ],
      "text/plain": [
       "<SR1d.State instance at 0x7fd8bcabaab8>"
      ]
     },
     "execution_count": 4,
     "metadata": {},
     "output_type": "execute_result"
    }
   ],
   "source": [
    "w_left\n"
   ]
  },
  {
   "cell_type": "code",
   "execution_count": null,
   "metadata": {
    "collapsed": true
   },
   "outputs": [],
   "source": []
  }
 ],
 "metadata": {
  "kernelspec": {
   "display_name": "Python 2",
   "language": "python",
   "name": "python2"
  },
  "language_info": {
   "codemirror_mode": {
    "name": "ipython",
    "version": 2
   },
   "file_extension": ".py",
   "mimetype": "text/x-python",
   "name": "python",
   "nbconvert_exporter": "python",
   "pygments_lexer": "ipython2",
   "version": "2.7.10"
  }
 },
 "nbformat": 4,
 "nbformat_minor": 0
}
