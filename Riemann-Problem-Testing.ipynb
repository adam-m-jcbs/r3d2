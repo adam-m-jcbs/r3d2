{
 "cells": [
  {
   "cell_type": "code",
   "execution_count": 1,
   "metadata": {
    "collapsed": false
   },
   "outputs": [],
   "source": [
    "import SR1d\n",
    "import eos_defns"
   ]
  },
  {
   "cell_type": "code",
   "execution_count": 2,
   "metadata": {
    "collapsed": true
   },
   "outputs": [],
   "source": [
    "eos = eos_defns.eos_gamma_law(5/3)"
   ]
  },
  {
   "cell_type": "code",
   "execution_count": 3,
   "metadata": {
    "collapsed": false
   },
   "outputs": [
    {
     "data": {
      "text/latex": [
       "$\\begin{pmatrix} \\rho \\\\ v \\\\ \\epsilon \\end{pmatrix}_{L} = \\begin{pmatrix} 1.0000 \\\\ 0.0000 \\\\ 1.5000 \\end{pmatrix}$"
      ],
      "text/plain": [
       "<SR1d.State at 0x1077f9e48>"
      ]
     },
     "execution_count": 3,
     "metadata": {},
     "output_type": "execute_result"
    }
   ],
   "source": [
    "w_left = SR1d.State(1.0, 0.0, 1.5, eos, label=\"L\")\n",
    "w_left"
   ]
  },
  {
   "cell_type": "code",
   "execution_count": 4,
   "metadata": {
    "collapsed": false
   },
   "outputs": [
    {
     "data": {
      "text/latex": [
       "$\\begin{pmatrix} \\rho \\\\ v \\\\ \\epsilon \\end{pmatrix}_{R} = \\begin{pmatrix} 0.1250 \\\\ 0.0000 \\\\ 12.0000 \\end{pmatrix}$"
      ],
      "text/plain": [
       "<SR1d.State at 0x10781f048>"
      ]
     },
     "execution_count": 4,
     "metadata": {},
     "output_type": "execute_result"
    }
   ],
   "source": [
    "w_right = SR1d.State(0.125, 0.0, 12.0, eos, label=\"R\")\n",
    "w_right"
   ]
  },
  {
   "cell_type": "code",
   "execution_count": 5,
   "metadata": {
    "collapsed": false
   },
   "outputs": [
    {
     "name": "stdout",
     "output_type": "stream",
     "text": [
      "Pressures: 1.0, 1.0\n"
     ]
    }
   ],
   "source": [
    "print(\"Pressures: {}, {}\".format(w_left.p, w_right.p))"
   ]
  },
  {
   "cell_type": "code",
   "execution_count": 6,
   "metadata": {
    "collapsed": false
   },
   "outputs": [
    {
     "data": {
      "text/latex": [
       "${\\cal C}: \\lambda^{(1)}= 0.0000$"
      ],
      "text/plain": [
       "<SR1d.Wave at 0x10781f390>"
      ]
     },
     "execution_count": 6,
     "metadata": {},
     "output_type": "execute_result"
    }
   ],
   "source": [
    "wave = SR1d.Wave(w_left, w_right, 1)\n",
    "wave"
   ]
  },
  {
   "cell_type": "code",
   "execution_count": 7,
   "metadata": {
    "collapsed": false
   },
   "outputs": [
    {
     "data": {
      "text/latex": [
       "$\\begin{pmatrix} \\rho \\\\ v \\\\ \\epsilon \\end{pmatrix}_{*_{L}} = \\begin{pmatrix} 1.0000 \\\\ 0.0000 \\\\ 2.0000 \\end{pmatrix}$"
      ],
      "text/plain": [
       "<SR1d.State at 0x10781f358>"
      ]
     },
     "execution_count": 7,
     "metadata": {},
     "output_type": "execute_result"
    }
   ],
   "source": [
    "w_star_left = SR1d.State(1.0, 0.0, 2.0, eos, label=r\"*_{L}\")\n",
    "w_star_left"
   ]
  },
  {
   "cell_type": "code",
   "execution_count": 8,
   "metadata": {
    "collapsed": false
   },
   "outputs": [
    {
     "data": {
      "text/plain": [
       "1.3333333333333335"
      ]
     },
     "execution_count": 8,
     "metadata": {},
     "output_type": "execute_result"
    }
   ],
   "source": [
    "w_star_left.p"
   ]
  },
  {
   "cell_type": "code",
   "execution_count": 9,
   "metadata": {
    "collapsed": false
   },
   "outputs": [
    {
     "data": {
      "text/latex": [
       "${\\cal S}_{\\leftarrow}: \\lambda^{(0)}= -0.7275$"
      ],
      "text/plain": [
       "<SR1d.Wave at 0x10781f4e0>"
      ]
     },
     "execution_count": 9,
     "metadata": {},
     "output_type": "execute_result"
    }
   ],
   "source": [
    "shock = SR1d.Wave(w_left, w_star_left.p, 0)\n",
    "shock"
   ]
  },
  {
   "cell_type": "code",
   "execution_count": 10,
   "metadata": {
    "collapsed": false
   },
   "outputs": [
    {
     "data": {
      "text/latex": [
       "$\\begin{pmatrix} \\rho \\\\ v \\\\ \\epsilon \\end{pmatrix}_{*_{R}} = \\begin{pmatrix} 0.1000 \\\\ 0.0000 \\\\ 1.0000 \\end{pmatrix}$"
      ],
      "text/plain": [
       "<SR1d.State at 0x10781f470>"
      ]
     },
     "execution_count": 10,
     "metadata": {},
     "output_type": "execute_result"
    }
   ],
   "source": [
    "w_star_right = SR1d.State(0.1, 0.0, 1.0, eos, label=r\"*_{R}\")\n",
    "w_star_right"
   ]
  },
  {
   "cell_type": "code",
   "execution_count": 11,
   "metadata": {
    "collapsed": false
   },
   "outputs": [
    {
     "data": {
      "text/plain": [
       "0.06666666666666668"
      ]
     },
     "execution_count": 11,
     "metadata": {},
     "output_type": "execute_result"
    }
   ],
   "source": [
    "w_star_right.p"
   ]
  },
  {
   "cell_type": "code",
   "execution_count": 12,
   "metadata": {
    "collapsed": false
   },
   "outputs": [
    {
     "data": {
      "text/latex": [
       "${\\cal R}_{\\rightarrow}: \\lambda^{(2)}\\in [-0.2632, 0.7968]$"
      ],
      "text/plain": [
       "<SR1d.Wave at 0x10781f668>"
      ]
     },
     "execution_count": 12,
     "metadata": {},
     "output_type": "execute_result"
    }
   ],
   "source": [
    "rarefaction = SR1d.Wave(w_right, w_star_right.p, 2)\n",
    "rarefaction"
   ]
  },
  {
   "cell_type": "markdown",
   "metadata": {},
   "source": [
    "## Try actually solving a Riemann Problem"
   ]
  },
  {
   "cell_type": "code",
   "execution_count": 13,
   "metadata": {
    "collapsed": false
   },
   "outputs": [
    {
     "data": {
      "text/latex": [
       "$\\begin{cases} {\\cal R}_{\\leftarrow}{\\cal C}{\\cal S}_{\\rightarrow},\\\\ {\\cal R}_{\\leftarrow}: \\lambda^{(0)}\\in [-0.6901, -0.2780],\\\\ {\\cal C}: \\lambda^{(1)}= 0.4371,\\\\ {\\cal S}_{\\rightarrow}: \\lambda^{(2)}= 0.8186,\\\\ \\begin{pmatrix} \\rho \\\\ v \\\\ \\epsilon \\end{pmatrix}_{L} = \\begin{pmatrix} 1.0000 \\\\ 0.0000 \\\\ 1.5000 \\end{pmatrix},\\\\ \\begin{pmatrix} \\rho \\\\ v \\\\ \\epsilon \\end{pmatrix}_{\\star_L} = \\begin{pmatrix} 0.4942 \\\\ 0.4371 \\\\ 0.9376 \\end{pmatrix},\\\\ \\begin{pmatrix} \\rho \\\\ v \\\\ \\epsilon \\end{pmatrix}_{\\star_R} = \\begin{pmatrix} 0.2412 \\\\ 0.4371 \\\\ 1.9209 \\end{pmatrix},\\\\ \\begin{pmatrix} \\rho \\\\ v \\\\ \\epsilon \\end{pmatrix}_{R} = \\begin{pmatrix} 0.1250 \\\\ 0.0000 \\\\ 1.2000 \\end{pmatrix},\\\\ p_* = 0.3089\\end{cases}$"
      ],
      "text/plain": [
       "<SR1d.RP at 0x10781fcc0>"
      ]
     },
     "execution_count": 13,
     "metadata": {},
     "output_type": "execute_result"
    }
   ],
   "source": [
    "w_left = SR1d.State(1.0, 0.0, 1.5, eos, label=\"L\")\n",
    "w_right = SR1d.State(0.125, 0.0, 1.2, eos, label=\"R\")\n",
    "rp = SR1d.RP(w_left, w_right)\n",
    "rp"
   ]
  }
 ],
 "metadata": {
  "kernelspec": {
   "display_name": "Python 3",
   "language": "python",
   "name": "python3"
  },
  "language_info": {
   "codemirror_mode": {
    "name": "ipython",
    "version": 3
   },
   "file_extension": ".py",
   "mimetype": "text/x-python",
   "name": "python",
   "nbconvert_exporter": "python",
   "pygments_lexer": "ipython3",
   "version": "3.4.3"
  }
 },
 "nbformat": 4,
 "nbformat_minor": 0
}
