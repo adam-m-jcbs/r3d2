{
 "cells": [
  {
   "cell_type": "code",
   "execution_count": 1,
   "metadata": {
    "collapsed": true
   },
   "outputs": [],
   "source": [
    "from r3d2 import State, eos_defns\n",
    "import numpy\n",
    "numpy.seterr(invalid='raise')\n",
    "from scipy.optimize import brentq\n",
    "from scipy.integrate import odeint\n",
    "import matplotlib.pyplot as plt\n",
    "import matplotlib\n",
    "%matplotlib inline\n",
    "\n",
    "matplotlib.rcParams['figure.figsize'] = (10, 8)\n",
    "plt.rc(\"font\", size=25)"
   ]
  },
  {
   "cell_type": "code",
   "execution_count": 2,
   "metadata": {
    "collapsed": false
   },
   "outputs": [],
   "source": [
    "gamma = 5/3\n",
    "eos = eos_defns.eos_gamma_law(gamma)\n",
    "# rho, v, vt, eps, eos\n",
    "q_right = State(8.0, -0.2, 0, 2.5, eos)\n",
    "\n",
    "rhoL = 5.0\n",
    "vL = 0.0\n",
    "epsL = 2.0"
   ]
  },
  {
   "cell_type": "code",
   "execution_count": 21,
   "metadata": {
    "collapsed": true
   },
   "outputs": [],
   "source": [
    "# TODO: refactor this so use q_L rather than all the other _L quantities\n",
    "# TODO: check this using the solver to see if it really does give the correct vt_crit\n",
    "# TODO: this only works in the shock region. See if can extend it to the rarefaction region too?\n",
    "def find_crit_vt(vt_L, q_R, rho_L, v_L, eps_L, eos, lr_sign=-1):\n",
    "    # FIXME: this isn't quite correct as rho_L* != rho_R*, h_L* != h_R*\n",
    "    \"\"\"\n",
    "    Returns vx_L* - vx_R, which should be 0 at the tangential velocity.\n",
    "    \"\"\"\n",
    "    \n",
    "    p_L = eos['p_from_rho_eps'](rho_L, eps_L)\n",
    "    h_L = eos['h_from_rho_eps'](rho_L, eps_L)\n",
    "    \n",
    "    def find_eps_star(eps_star):\n",
    "        rho_star = eos['rho_from_p_eps'](q_R.p, eps_star)\n",
    "        h_star = eos['h_from_rho_eps'](rho_star, eps_star)\n",
    "        \n",
    "        return h_star**2 - h_L**2 - (h_star/rho_star + h_L/rho_L) * (q_R.p - p_L)\n",
    "     \n",
    "        \n",
    "    eps_min = min(q_R.eps, eps_L) * 0.9\n",
    "    eps_max = max(q_R.eps, eps_L) * 1.1\n",
    "    \n",
    "    max_iter = 1000\n",
    "    i = 0\n",
    "    \n",
    "    while find_eps_star(eps_min) * find_eps_star(eps_max) > 0.0 and i < max_iter:\n",
    "        i += 1\n",
    "        eps_min /= 5.0\n",
    "        eps_max *= 5.0\n",
    "        \n",
    "    #print('find_eps_star(eps_min) * find_eps_star(eps_max) = {}'.format(find_eps_star(eps_min) * find_eps_star(eps_max)))\n",
    "        \n",
    "    if find_eps_star(eps_min) * find_eps_star(eps_max) > 0.0:\n",
    "        raise StopIteration('Reached max_iter')\n",
    "    \n",
    "    eps_star = brentq(find_eps_star, eps_min, eps_max)\n",
    "    \n",
    "    rho_star = eos['rho_from_p_eps'](q_R.p, eps_star)\n",
    "    h_star = eos['h_from_rho_eps'](rho_star, eps_star)\n",
    "    \n",
    "    # mass flux \n",
    "    j2 = (p_L - q_R.p) / ((h_L**2 - h_star**2) / (p_L - q_R.p) - 2. * h_L / rho_L)\n",
    "    \n",
    "    W_L = 1.0 / numpy.sqrt(1.0 - v_L **2 - vt_L**2)\n",
    "    \n",
    "    V_minus = (rho_L**2 * W_L**2 * v_L + lr_sign * j2 * numpy.sqrt(1. + rho_L**2 * W_L**2 * (1. - v_L**2)/j2)) / \\\n",
    "              (rho_L**2 * W_L**2 + j2)\n",
    "    \n",
    "    # now use the fact that vx_L* = vx_R, p_L* = p_R to root find \n",
    "    \n",
    "    return (h_L * W_L *v_L + lr_sign * (q_R.p - p_L) / (numpy.sqrt(j2*(1. - V_minus**2)))) / \\\n",
    "           (h_L * W_L + (q_R.p - p_L) * \n",
    "                (1. / (rho_L * W_L) + lr_sign * v_L / numpy.sqrt(j2 * (1. - V_minus**2)))) - q_R.v\n",
    "    "
   ]
  },
  {
   "cell_type": "code",
   "execution_count": 18,
   "metadata": {
    "collapsed": false
   },
   "outputs": [],
   "source": [
    "def find_crit_vt_rarefaction(vt_L, q_R, rho_L, v_L, eps_L, eos, lr_sign=-1):\n",
    "    \"\"\"\n",
    "    If it's a rarefaction, need to solve a different set of equations.\n",
    "    \"\"\"\n",
    "    \n",
    "    p_L = eos['p_from_rho_eps'](rho_L, eps_L)\n",
    "    #h_L = eos['h_from_rho_eps'](rho_L, eps_L)\n",
    "    #cs_L = eos['cs_from_rho_eps'](rho_L, eps_L)\n",
    "    #W_L2 = 1.0 / (1.0 - v_L**2 - vt_L**2)\n",
    "    ps = numpy.linspace(p_L, q_R.p, endpoint=True)\n",
    "    \n",
    "    # TODO: how on earth do I do this???!!!!\n",
    "    def dvdp(v, p):\n",
    "        #eps = (gamma - 1.0) * rho_L / p\n",
    "        #h_L = eos['h_from_rho_eps'](rho_L, eps)\n",
    "        #cs_L = eos['cs_from_rho_eps'](rho_L, eps)\n",
    "        #W_L2 = 1.0 / (1.0 - v**2 - vt_L**2)\n",
    "        #xi = (v * (1.-cs_L**2) + \n",
    "         #     lr_sign * cs_L * numpy.sqrt((1.-v**2 - vt_L**2) * \n",
    "        #    (1. - (v**2 - vt_L**2)*cs_L**2 -\n",
    "         #     v**2 * (1. - cs_L**2)))) / (1. - (v**2 + vt_L**2)*cs_L**2)\n",
    "        #g = vt_L**2 * (xi**2 - 1.) / (1. - xi * v)**2\n",
    "        \n",
    "        #return lr_sign / (rho_L * h_L * W_L2 * cs_L\n",
    "         #                * numpy.sqrt(1. + g))\n",
    "        \n",
    "        eps = q_R.eps#(gamma - 1.0) * q_R.rho / p\n",
    "        rho = (gamma - 1.0) * eps / p\n",
    "        h = eos['h_from_rho_eps'](rho, eps)\n",
    "        cs = eos['cs_from_rho_eps'](rho, eps)\n",
    "        vt = q_R.h * q_R.W_lorentz * q_R.vt * numpy.sqrt((1-v**2) / \n",
    "                     (h**2 + (q_R.h * q_R.W_lorentz * q_R.vt)**2))\n",
    "        W_L2 = 1.0 / (1.0 - v**2 - vt**2)\n",
    "        xi = (v * (1. - cs**2) + \n",
    "              lr_sign * cs * numpy.sqrt((1.-v**2 - vt**2) * \n",
    "            (1. - (v**2 - vt**2)*cs**2 -\n",
    "              v**2 * (1. - cs**2)))) / (1. - (v**2 + vt**2)*cs**2)\n",
    "        g = vt**2 * (xi**2 - 1.) / (1. - xi * v)**2\n",
    "        \n",
    "        return lr_sign / (rho * h * W_L2 * cs\n",
    "                         * numpy.sqrt(1. + g))\n",
    "    \n",
    "    vx = odeint(dvdp, v_L, ps, rtol = 1e-12, atol = 1e-10)\n",
    "    print('vx: {}'.format(vx- q_R.v))\n",
    "    #print(vx)\n",
    "    \n",
    "    return vx[-1] - q_R.v\n",
    "    \n",
    "    \n",
    "    #return (v_L * (1. - cs_L**2) + \n",
    "     #         lr_sign * cs_L * numpy.sqrt((1.-v_L**2 - vt_L**2) * \n",
    "    #        (1. - (v_L**2 - vt_L**2)*cs_L**2 -\n",
    "       #       v_L**2 * (1. - cs_L**2)))) / \\\n",
    "        #    (1. - (v_L**2 + vt_L**2)*cs_L**2) + v_L - lr_sign*cs_L"
   ]
  },
  {
   "cell_type": "code",
   "execution_count": 22,
   "metadata": {
    "collapsed": false,
    "scrolled": true
   },
   "outputs": [],
   "source": [
    "rhoLs = numpy.linspace(1.,8., num=10000)\n",
    "\n",
    "min_vt = 0.1\n",
    "max_vt = 0.9999\n",
    "\n",
    "vts = []\n",
    "\n",
    "for rho in rhoLs:\n",
    "    #print(find_crit_vt_rarefaction(min_vt, q_right, rho, vL, epsL, eos))\n",
    "    #print(find_crit_vt_rarefaction(max_vt, q_right, rho, vL, epsL, eos))\n",
    "    #crit_vt = brentq(find_crit_vt_rarefaction, min_vt, max_vt, args=(q_right, rho, vL, epsL, eos))\n",
    "    try:\n",
    "        crit_vt = brentq(find_crit_vt, min_vt, max_vt, args=(q_right, rho, vL, epsL, eos))\n",
    "    except ValueError:\n",
    "        break\n",
    "        \n",
    "        #crit_vt = brentq(find_crit_vt_rarefaction, min_vt, max_vt, args=(q_right, rho, vL, epsL, eos))\n",
    "    #print(find_crit_vt(min_vt, q_right, rho, vL, epsL, eos, lr_sign))\n",
    "    #print(find_crit_vt(max_vt, q_right, rho, vL, epsL, eos, lr_sign))\n",
    "    #try:\n",
    "        #crit_vt = brentq(find_crit_vt, min_vt, max_vt, args=(q_right, rho, vL, epsL, eos, lr_sign))\n",
    "    #except ValueError:\n",
    "        #break\n",
    "    vts.append(crit_vt)"
   ]
  },
  {
   "cell_type": "code",
   "execution_count": 23,
   "metadata": {
    "collapsed": false
   },
   "outputs": [
    {
     "data": {
      "image/png": "[encoded data removed]",
      "text/plain": [
       "<matplotlib.figure.Figure at 0x7f31497bd400>"
      ]
     },
     "metadata": {},
     "output_type": "display_data"
    }
   ],
   "source": [
    "plt.plot(rhoLs[:len(vts)], vts)\n",
    "plt.xlabel(r'$\\rho_L$')\n",
    "plt.ylabel(r'$v_{crit}$')\n",
    "\n",
    "to_save = True\n",
    "\n",
    "outfile = \"../Writing/figures/vt_crit\"\n",
    "if to_save:\n",
    "    plt.savefig(outfile)\n",
    "\n",
    "plt.show()"
   ]
  },
  {
   "cell_type": "code",
   "execution_count": 10,
   "metadata": {
    "collapsed": false
   },
   "outputs": [
    {
     "data": {
      "text/plain": [
       "5.86129861298613"
      ]
     },
     "execution_count": 10,
     "metadata": {},
     "output_type": "execute_result"
    }
   ],
   "source": [
    "# The point where the code blew up should give a good estimate of the value of rho_L when v_crit = 0\n",
    "rhoLs[len(vts)-1]"
   ]
  },
  {
   "cell_type": "code",
   "execution_count": null,
   "metadata": {
    "collapsed": true
   },
   "outputs": [],
   "source": []
  }
 ],
 "metadata": {
  "kernelspec": {
   "display_name": "Python 3",
   "language": "python",
   "name": "python3"
  },
  "language_info": {
   "codemirror_mode": {
    "name": "ipython",
    "version": 3
   },
   "file_extension": ".py",
   "mimetype": "text/x-python",
   "name": "python",
   "nbconvert_exporter": "python",
   "pygments_lexer": "ipython3",
   "version": "3.4.4"
  }
 },
 "nbformat": 4,
 "nbformat_minor": 0
}
