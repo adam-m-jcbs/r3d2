{
 "cells": [
  {
   "cell_type": "code",
   "execution_count": 1,
   "metadata": {
    "collapsed": true
   },
   "outputs": [],
   "source": [
    "from r3d2 import State, eos_defns\n",
    "import numpy\n",
    "numpy.seterr(invalid='raise')\n",
    "from scipy.optimize import brentq\n",
    "from scipy.integrate import odeint\n",
    "import matplotlib.pyplot as plt\n",
    "import matplotlib\n",
    "%matplotlib inline\n",
    "\n",
    "matplotlib.rcParams['figure.figsize'] = (10, 8)\n",
    "plt.rc(\"font\", size=25)"
   ]
  },
  {
   "cell_type": "code",
   "execution_count": 2,
   "metadata": {
    "collapsed": false
   },
   "outputs": [],
   "source": [
    "gamma = 5/3\n",
    "eos = eos_defns.eos_gamma_law(gamma)\n",
    "# rho, v, vt, eps, eos\n",
    "q_right = State(8.0, -0.2, 0.1, 2.5, eos)\n",
    "\n",
    "#rhoL = 5.0\n",
    "vL = 0.0\n",
    "epsL = 2.0"
   ]
  },
  {
   "cell_type": "code",
   "execution_count": 21,
   "metadata": {
    "collapsed": true
   },
   "outputs": [],
   "source": [
    "def find_crit_vt(vt_L, q_L, q_R, lr_sign=-1):\n",
    "    \"\"\"\n",
    "    Returns vx_L* - vx_R, which should be 0 at the tangential velocity.\n",
    "    \"\"\"\n",
    "    \n",
    "    # Re-construct state with new vt_L - this is better than just setting q_L.vt = vt_L as\n",
    "    # it ensures that all member variables (eg. W_lorentz) are recalculated with new vt.\n",
    "    q_L = State(q_L.rho, q_L.v, vt_L, q_L.eps, q_L.eos)\n",
    "    \n",
    "    def find_eps_star(eps_star):\n",
    "        rho_star = eos['rho_from_p_eps'](q_R.p, eps_star)\n",
    "        h_star = eos['h_from_rho_eps'](rho_star, eps_star)\n",
    "        \n",
    "        return h_star**2 - q_L.h**2 - (h_star/rho_star + q_L.h/q_L.rho) * (q_R.p - q_L.p)\n",
    "     \n",
    "    eps_min = min(q_R.eps, q_L.eps) * 0.9\n",
    "    eps_max = max(q_R.eps, q_L.eps) * 1.1\n",
    "    \n",
    "    max_iter = 1000\n",
    "    i = 0\n",
    "    \n",
    "    while find_eps_star(eps_min) * find_eps_star(eps_max) > 0.0 and i < max_iter:\n",
    "        i += 1\n",
    "        eps_min /= 5.0\n",
    "        eps_max *= 5.0\n",
    "        \n",
    "    if find_eps_star(eps_min) * find_eps_star(eps_max) > 0.0:\n",
    "        raise StopIteration('Reached max_iter')\n",
    "    \n",
    "    eps_star = brentq(find_eps_star, eps_min, eps_max)\n",
    "    \n",
    "    rho_star = eos['rho_from_p_eps'](q_R.p, eps_star)\n",
    "    h_star = eos['h_from_rho_eps'](rho_star, eps_star)\n",
    "    \n",
    "    # mass flux \n",
    "    j2 = (q_L.p - q_R.p) / ((q_L.h**2 - h_star**2) / (q_L.p - q_R.p) - 2. * q_L.h / q_L.rho)\n",
    "    \n",
    "    V_minus = (q_L.rho**2 * q_L.W_lorentz**2 * q_L.v + lr_sign * j2 * \n",
    "               numpy.sqrt(1. + q_L.rho**2 * q_L.W_lorentz**2 * (1. - q_L.v**2)/j2)) / \\\n",
    "              (q_L.rho**2 * q_L.W_lorentz**2 + j2)\n",
    "        \n",
    "        \n",
    "    # now use the fact that vx_L* = vx_R, p_L* = p_R to root find \n",
    "    \n",
    "    return (q_L.h * q_L.W_lorentz * q_L.v + lr_sign * (q_R.p - q_L.p) / (numpy.sqrt(j2*(1. - V_minus**2)))) / \\\n",
    "           (q_L.h * q_L.W_lorentz + (q_R.p - q_L.p) * \n",
    "                (1. / (q_L.rho * q_L.W_lorentz) + lr_sign * q_L.v / numpy.sqrt(j2 * (1. - V_minus**2)))) - q_R.v\n",
    "    "
   ]
  },
  {
   "cell_type": "code",
   "execution_count": 22,
   "metadata": {
    "collapsed": false,
    "scrolled": true
   },
   "outputs": [],
   "source": [
    "rhoLs = numpy.linspace(0.2,8., num=50000)\n",
    "\n",
    "min_vt = 0.1\n",
    "max_vt = 0.9999\n",
    "\n",
    "vts = []\n",
    "\n",
    "for rho in rhoLs:\n",
    "    try:\n",
    "        q_left = State(rho, vL, 0.0, epsL, eos)\n",
    "        crit_vt = brentq(find_crit_vt, min_vt, max_vt, args=(q_left, q_right))\n",
    "    except ValueError:\n",
    "        # at this point, the left density is high enough that we begin with a detonation so no transition\n",
    "        break\n",
    "    vts.append(crit_vt)"
   ]
  },
  {
   "cell_type": "code",
   "execution_count": 23,
   "metadata": {
    "collapsed": false
   },
   "outputs": [
    {
     "data": {
      "image/png": "[encoded data removed]",
      "text/plain": [
       "<matplotlib.figure.Figure at 0x7f1961681b38>"
      ]
     },
     "metadata": {},
     "output_type": "display_data"
    }
   ],
   "source": [
    "plt.plot(rhoLs[:len(vts)], vts)\n",
    "plt.xlabel(r'$\\rho_L$')\n",
    "plt.ylabel(r'$v_{crit}$')\n",
    "\n",
    "to_save = False\n",
    "\n",
    "outfile = \"../Writing/figures/vt_crit\"\n",
    "if to_save:\n",
    "    plt.savefig(outfile)\n",
    "\n",
    "plt.show()"
   ]
  },
  {
   "cell_type": "code",
   "execution_count": 24,
   "metadata": {
    "collapsed": false
   },
   "outputs": [
    {
     "data": {
      "text/plain": [
       "6.2508930178603572"
      ]
     },
     "execution_count": 24,
     "metadata": {},
     "output_type": "execute_result"
    }
   ],
   "source": [
    "# The point where the code blew up should give a good estimate of the value of rho_L when v_crit = 0\n",
    "rhoLs[len(vts)-1]"
   ]
  },
  {
   "cell_type": "code",
   "execution_count": null,
   "metadata": {
    "collapsed": true
   },
   "outputs": [],
   "source": []
  }
 ],
 "metadata": {
  "kernelspec": {
   "display_name": "Python 3",
   "language": "python",
   "name": "python3"
  },
  "language_info": {
   "codemirror_mode": {
    "name": "ipython",
    "version": 3
   },
   "file_extension": ".py",
   "mimetype": "text/x-python",
   "name": "python",
   "nbconvert_exporter": "python",
   "pygments_lexer": "ipython3",
   "version": "3.4.4"
  }
 },
 "nbformat": 4,
 "nbformat_minor": 0
}
