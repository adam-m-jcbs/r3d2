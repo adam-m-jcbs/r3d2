{
 "cells": [
  {
   "cell_type": "code",
   "execution_count": 1,
   "metadata": {
    "collapsed": true
   },
   "outputs": [],
   "source": [
    "from r3d2 import State, eos_defns\n",
    "import numpy\n",
    "from scipy.optimize import brentq\n",
    "import matplotlib.pyplot as plt\n",
    "%matplotlib inline"
   ]
  },
  {
   "cell_type": "code",
   "execution_count": 2,
   "metadata": {
    "collapsed": false
   },
   "outputs": [],
   "source": [
    "gamma = 5/3\n",
    "eos = eos_defns.eos_gamma_law(gamma)\n",
    "# rho, v, vt, eps, eos\n",
    "q_right = State(8.0, -0.2, 0, 2.5, eos)\n",
    "\n",
    "rhoL = 5.0\n",
    "vL = 0.0\n",
    "epsL = 2.0"
   ]
  },
  {
   "cell_type": "code",
   "execution_count": 3,
   "metadata": {
    "collapsed": true
   },
   "outputs": [],
   "source": [
    "# TODO: refactor this so use q_L rather than all the other _L quantities\n",
    "# TODO: check this using the solver to see if it really does give the correct vt_crit\n",
    "# TODO: this only works in the shock region. See if can extend it to the rarefaction region too?\n",
    "def find_crit_vt(vt_L, q_R, rho_L, v_L, eps_L, eos, lr_sign=-1):\n",
    "    \"\"\"\n",
    "    Returns vx_L* - vx_R, which should be 0 at the tangential velocity.\n",
    "    \"\"\"\n",
    "    p_L = eos['p_from_rho_eps'](rho_L, eps_L)\n",
    "    h_L = eos['h_from_rho_eps'](rho_L, eps_L)\n",
    "    \n",
    "    # mass flux \n",
    "    j2 = (p_L - q_R.p) / ((h_L**2 - q_R.h**2) / (p_L - q_R.p) - 2. * h_L / rho_L)\n",
    "    \n",
    "    W_L = 1.0 / numpy.sqrt(1.0 - v_L **2 - vt_L**2)\n",
    "    \n",
    "    V_minus = (rho_L**2 * W_L**2 * v_L + lr_sign * j2 * numpy.sqrt(1. + rho_L**2 * W_L**2 * (1. - v_L**2)/j2)) / \\\n",
    "              (rho_L**2 * W_L**2 + j2)\n",
    "    \n",
    "    # now use the fact that vx_L* = vx_R, p_L* = p_R to root find \n",
    "    \n",
    "    return (h_L * W_L *v_L + lr_sign * (q_R.p - p_L) / (numpy.sqrt(j2*(1. - V_minus**2)))) / \\\n",
    "           (h_L * W_L + (q_R.p - p_L) * \n",
    "                (1. / (rho_L * W_L) + lr_sign * v_L / numpy.sqrt(j2 * (1. - V_minus**2)))) - q_R.v\n",
    "    "
   ]
  },
  {
   "cell_type": "code",
   "execution_count": 4,
   "metadata": {
    "collapsed": false
   },
   "outputs": [],
   "source": [
    "rhoLs = numpy.linspace(4, 6., num=100000)\n",
    "\n",
    "min_vt = 0.0\n",
    "max_vt = 0.9999\n",
    "\n",
    "vts = []\n",
    "\n",
    "for rho in rhoLs:\n",
    "    if numpy.isnan(find_crit_vt(min_vt, q_right, rho, vL, epsL, eos)):\n",
    "        lr_sign = 1\n",
    "    else:\n",
    "        lr_sign = -1\n",
    "    #print(find_crit_vt(min_vt, q_right, rho, vL, epsL, eos, lr_sign))\n",
    "    #print(find_crit_vt(max_vt, q_right, rho, vL, epsL, eos, lr_sign))\n",
    "    try:\n",
    "        crit_vt = brentq(find_crit_vt, min_vt, max_vt, args=(q_right, rho, vL, epsL, eos, lr_sign))\n",
    "    except ValueError:\n",
    "        break\n",
    "    vts.append(crit_vt)"
   ]
  },
  {
   "cell_type": "code",
   "execution_count": 5,
   "metadata": {
    "collapsed": false
   },
   "outputs": [
    {
     "data": {
      "image/png": "[encoded data removed]",
      "text/plain": [
       "<matplotlib.figure.Figure at 0x7f0d6b01a860>"
      ]
     },
     "metadata": {},
     "output_type": "display_data"
    }
   ],
   "source": [
    "plt.plot(rhoLs[:len(vts)], vts)\n",
    "plt.xlabel(r'$\\rho_L$')\n",
    "plt.ylabel(r'$v_{crit}$')\n",
    "plt.show()"
   ]
  },
  {
   "cell_type": "code",
   "execution_count": 6,
   "metadata": {
    "collapsed": false
   },
   "outputs": [
    {
     "data": {
      "text/plain": [
       "5.8654186541865414"
      ]
     },
     "execution_count": 6,
     "metadata": {},
     "output_type": "execute_result"
    }
   ],
   "source": [
    "# The point where the code blew up should give a good estimate of the value of rho_L when v_crit = 0\n",
    "rhoLs[len(vts)-1]"
   ]
  },
  {
   "cell_type": "code",
   "execution_count": null,
   "metadata": {
    "collapsed": true
   },
   "outputs": [],
   "source": []
  }
 ],
 "metadata": {
  "kernelspec": {
   "display_name": "Python 3",
   "language": "python",
   "name": "python3"
  },
  "language_info": {
   "codemirror_mode": {
    "name": "ipython",
    "version": 3
   },
   "file_extension": ".py",
   "mimetype": "text/x-python",
   "name": "python",
   "nbconvert_exporter": "python",
   "pygments_lexer": "ipython3",
   "version": "3.4.4"
  }
 },
 "nbformat": 4,
 "nbformat_minor": 0
}
