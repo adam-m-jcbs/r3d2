{
 "cells": [
  {
   "cell_type": "markdown",
   "metadata": {},
   "source": [
    "# Waves\n",
    "\n",
    "The solution to the Riemann problem is built out of *waves*. These are regions where the variables change, separating constant states. There are two basic types of wave: those across which the variables change continuously (which, for fluid problems, are known as *rarefactions*), and those across which the variables change discontinuously (which break down into more subclasses).\n",
    "\n",
    "We will assume that the state is known on one side of the wave, which will be denoted ${\\bf U}_k$. The state on the other side will be unknown. Given the value of one variable, typically the pressure $p$, on the unknown side, the solution across the wave can be found.\n",
    "\n",
    "The equations here are adapted from the [Living Review of Martí and Müller](http://computastrophys.livingreviews.org/Articles/lrca-2015-3/articlese8.html#x11-1150008.5). The approach to reactive waves follows the [paper of Zhang and Zheng][1], extended to the Relativistic case.\n",
    "\n",
    "[1]: http://dx.doi.org/10.1016/0022-0396(89)90142-3\n",
    "\n",
    "## Wave sections\n",
    "\n",
    "In general any wave can be built from multiple sections, pieced together. A wave may \"split\" into two discontinuous pieces moving at different speeds. A wave may contain a discontinuous section attached to a continuous section. In the most complex cases, the wave may have an arbitrarily large number of sections.\n",
    "\n",
    "In the inert case, and when the equation of state is convex, each wave contains a single section. If the pressure decreases across the wave, $p_k > p$, then the wave is a continuous rarefaction. If the pressure increases across the wave, $p_k < p$, then the wave is a discontinuous shock. If the pressure does not change, the wave is either trivial (the state does not change) or a contact discontinuity (where quantities except $p$ and $v_x$ may jump).\n",
    "\n",
    "In the reactive case, all the reactions that we can model will take place \"instantly\". This means that reactions must take place across discontinuous wave sections. The reactive waves may now contain multiple wave sections. If the equation of state is convex, and the reaction exothermic, then across a reactive discontinuous wave the pressure increases. Therefore if the pressure is to decrease across the wave as a whole, there must be an inert *precursor* shock before the reactive discontinuity.\n",
    "\n",
    "Finally, we note that not all reactive discontinuous waves are stable. This can be checked by looking at the wave speed on the unknown side of the wave. If the wave speed leads to characteristics coming *out* of the discontinuity, then the wave is unstable. In this case we need to add another wave section. We find the fastest stable reactive discontinuity (a *Chapman-Jouget* discontinuity), where the wave speed matches the speed of the discontinuity, and attach to it an inert rarefaction."
   ]
  },
  {
   "cell_type": "markdown",
   "metadata": {},
   "source": [
    "## Rarefactions\n",
    "\n",
    "Across a rarefaction the normal velocity satisfies\n",
    "\n",
    "$$\n",
    "  \\frac{\\text{d} v_x}{\\text{d} p} = \\pm \\frac{1}{\\rho_0 h W^2 c_s} \\frac{1}{\\sqrt{1 + g \\left( \\xi_{\\pm}, v_x, v_t \\right)}}.\n",
    "$$\n",
    "\n",
    "The sign corresponds to the wavenumber: plus for the right acoustic wave and minus for the left. In the code this corresponds to `lr_sign = wavenumber - 1`.\n",
    "\n",
    "The function $g$ quantifies the effect of the tangential velocity, and is\n",
    "\n",
    "$$\n",
    "  g = \\frac{\\left( v_t \\right)^2 \\left( \\xi_{\\pm} - 1 \\right)}{\\left( 1 - \\xi_{\\pm} v_x \\right)^2}.\n",
    "$$\n",
    "\n",
    "The wavespeed itself is $\\xi_{\\pm}$.\n",
    "\n",
    "We also solve for the rest mass density and specific internal energy across the wave using\n",
    "\n",
    "$$\n",
    "  \\frac{\\text{d}}{\\text{d} p} \\begin{pmatrix} \\rho_0 \\\\ \\epsilon \\end{pmatrix} = \\begin{pmatrix} \\frac{1}{h c_s^2} \\\\ \\frac{p}{\\rho_0^2 h c_s^2} \\end{pmatrix}.\n",
    "$$\n",
    "\n",
    "Having solved across the wave, the tangential velocity follows as\n",
    "\n",
    "$$\n",
    "  v_t = h_k W_k \\left( v_t \\right)_k \\frac{1 - v_x^2}{h^2 + \\left( h_k W_k \\left( v_t \\right)_k \\right)^2}.\n",
    "$$\n",
    "\n",
    "The relation for the tangential velocity holds across both continuous and discontinuous waves."
   ]
  },
  {
   "cell_type": "markdown",
   "metadata": {},
   "source": [
    "## Shocks\n",
    "\n",
    "Across an inert shock we first find the post shock density and enthalpy by solving the nonlinear equation\n",
    "\n",
    "$$\n",
    "  h^2 - h_k^2 - \\left( \\frac{h}{\\rho_0} + \\frac{h_k}{\\left( \\rho_0 \\right)_k} \\right) \\left( p - p_k \\right) = 0.\n",
    "$$\n",
    "\n",
    "This assumes the post shock pressure $p_k$ is known, and that the equation of state gives the enthalpy $h_k = h \\left( \\left( \\rho_0 \\right)_k, p_k \\right)$.\n",
    "\n",
    "From this we can compute the mass flux $j$ across the shock, as\n",
    "\n",
    "$$\n",
    "  j = \\sqrt{ \\frac{p_k - p}{ \\frac{h^2 - h_k^2}{p - p_k} - \\frac{2 h_k}{p_k} } }.\n",
    "$$\n",
    "\n",
    "This gives the shock velocity as\n",
    "\n",
    "$$\n",
    "  v_S = \\pm \\frac{ \\left( \\rho_0 \\right)_k^2 W_k^2 \\left( v_x \\right)_k \\pm j^2 \\sqrt{ 1 + \\frac{\\left( \\rho_0 \\right)_k^2 W_k^2 \\left( 1 - \\left( v_x \\right)^2 \\right)}{j^2}}}{\\left( \\rho_0 \\right)_k^2 W_k^2 + j^2}.\n",
    "$$\n",
    "\n",
    "Again, the sign corresponds to the wave number.\n",
    "\n",
    "Given the shock velocity we can compute the shock \"Lorentz factor\" $W_S = (1 - v_S^2)^{-1/2}$, from which the post shock normal velocity is\n",
    "\n",
    "$$\n",
    "  v_x = \\left( h_k W_k v_S \\pm \\frac{p - p_k}{j \\sqrt{1 - v_S^2}} \\right) \\left[ h_k W_k + \\left( p - p_k \\right) \\left( \\frac{1}{\\left( \\rho_0 \\right)_k W_k} \\pm \\frac{\\left( v_x \\right)_k W_S}{j} \\right) \\right]^{-1}.\n",
    "$$\n",
    "\n",
    "The tangential velocity follows as in the rarefaction case."
   ]
  },
  {
   "cell_type": "markdown",
   "metadata": {},
   "source": [
    "## Detonation\n",
    "\n",
    "A detonation is a discontinuous reactive wave section across which the pressure increases. The equations are identical to those for the shock case, but the interpretation changes. All \"known\" (pre shock) variables have the reactive equation of state. All \"unknown\" (post shock) variables use the inert equation of state - the reaction has taken place across the discontinuity.\n",
    "\n",
    "As noted above, it is possible for the resulting detonation wave section to be unstable. In general, detonations fall into two classes: *weak* detonations (which are unstable) and *strong* detonations (which are stable). For the stable strong detonations the characteristic waves impinge on the discontinuity from both sides. For the unstable weak detonations the characteristics only enter the discontinuity on one side.\n",
    "\n",
    "If an unstable weak detonation is found, the section should be replaced by the fastest detonation that is stable. This Chapman-Jouget, or CJ detonation, is where the characteristic wave is parallel to the discontinuity. In this case, the post detonation pressure will not match the required post wave pressure, and an additional rarefaction wave section is needed to complete the wave."
   ]
  },
  {
   "cell_type": "markdown",
   "metadata": {},
   "source": [
    "## Deflagration\n",
    "\n",
    "A deflagration is a discontinuous wave section across which the pressure decreases. As a reaction cannot take place across a rarefaction wave, this requires a discontinuity. However, this discontinuity will reduce the temperature along with the pressure. This means that, unless the material was already at the right temperature to react, any reaction across this wave would be unphysical.\n",
    "\n",
    "The solution is to start with an inert *precursor* shock which raises the temperature of the material to the ignition temperature. This first section follows the exact equations in the shock section above. Next, there is a deflagration wave section, across which the reaction takes place and the pressure drops. Again, this follows the shock equations, but with the same interpretation as in the detonation case.\n",
    "\n",
    "Again, the deflagration wave section need not be stable. As with detonations, deflagrations fall into two classes: *weak* deflagrations (which are stable), and *strong* deflagrations (which are unstable). For the stable weak deflagrations the characteristic waves from one side impinge on the discontinuity, but not the other. For the unstable strong deflagrations, neither set of characteristic waves impinges on the discontinuity.\n",
    "\n",
    "Again, if an unstable strong deflagration is found it is replaced with a CJ deflagration, and the full wave is completed with a rarefaction wave section."
   ]
  },
  {
   "cell_type": "markdown",
   "metadata": {},
   "source": [
    "## Code"
   ]
  },
  {
   "cell_type": "markdown",
   "metadata": {},
   "source": [
    "The `Wave` class in `r3d2` in intended for internal use, but can be used to construct single waves directly. We need a known state with an equation of state first:"
   ]
  },
  {
   "cell_type": "code",
   "execution_count": 1,
   "metadata": {
    "collapsed": true
   },
   "outputs": [],
   "source": [
    "from r3d2 import eos_defns, State, wave"
   ]
  },
  {
   "cell_type": "code",
   "execution_count": 2,
   "metadata": {
    "collapsed": false
   },
   "outputs": [
    {
     "data": {
      "text/latex": [
       "$\\begin{pmatrix} \\rho \\\\ v_x \\\\ v_t \\\\ \\epsilon \\end{pmatrix}_{known} = \\begin{pmatrix} 1.0000 \\\\ 0.1000 \\\\ 0.0500 \\\\ 0.2000 \\end{pmatrix}$"
      ],
      "text/plain": [
       "<r3d2.state.State at 0x10faae828>"
      ]
     },
     "execution_count": 2,
     "metadata": {},
     "output_type": "execute_result"
    }
   ],
   "source": [
    "eos = eos_defns.eos_gamma_law(5.0/3.0)\n",
    "U = State(1.0, 0.1, 0.05, 0.2, eos, label=\"known\")\n",
    "U"
   ]
  },
  {
   "cell_type": "markdown",
   "metadata": {},
   "source": [
    "We then solve for a left going (wavenumber `0`) inert acoustic wave with post-wave pressure of $10$ or $0.1$:"
   ]
  },
  {
   "cell_type": "code",
   "execution_count": 3,
   "metadata": {
    "collapsed": false
   },
   "outputs": [],
   "source": [
    "wave_1 = wave.Wave(U, unknown_value=10, wavenumber=0)\n",
    "wave_2 = wave.Wave(U, unknown_value=0.1, wavenumber=0)"
   ]
  },
  {
   "cell_type": "markdown",
   "metadata": {},
   "source": [
    "The first wave is a shock. When output in the notebook, it gives the type, wave number, and wave speed:"
   ]
  },
  {
   "cell_type": "code",
   "execution_count": 4,
   "metadata": {
    "collapsed": false
   },
   "outputs": [
    {
     "data": {
      "text/latex": [
       "${\\cal S}_{\\leftarrow}: \\lambda^{(0)}= -0.9614$"
      ],
      "text/plain": [
       "<r3d2.wave.Wave at 0x10faaec50>"
      ]
     },
     "execution_count": 4,
     "metadata": {},
     "output_type": "execute_result"
    }
   ],
   "source": [
    "wave_1"
   ]
  },
  {
   "cell_type": "markdown",
   "metadata": {},
   "source": [
    "The second wave is a rarefaction. In this case, as it's a continuous wave, its wave speed is a range:"
   ]
  },
  {
   "cell_type": "code",
   "execution_count": 5,
   "metadata": {
    "collapsed": false
   },
   "outputs": [
    {
     "data": {
      "text/latex": [
       "${\\cal R}_{\\leftarrow}: \\lambda^{(0)}\\in [-0.3209, -0.2383]$"
      ],
      "text/plain": [
       "<r3d2.wave.Wave at 0x10faaebe0>"
      ]
     },
     "execution_count": 5,
     "metadata": {},
     "output_type": "execute_result"
    }
   ],
   "source": [
    "wave_2"
   ]
  },
  {
   "cell_type": "markdown",
   "metadata": {},
   "source": [
    "The right going (wavenumber `2`) acoustic waves follow the same structure:"
   ]
  },
  {
   "cell_type": "code",
   "execution_count": 6,
   "metadata": {
    "collapsed": false
   },
   "outputs": [
    {
     "data": {
      "text/latex": [
       "${\\cal S}_{\\rightarrow}: \\lambda^{(2)}= 0.9978$"
      ],
      "text/plain": [
       "<r3d2.wave.Wave at 0x10faaeef0>"
      ]
     },
     "execution_count": 6,
     "metadata": {},
     "output_type": "execute_result"
    }
   ],
   "source": [
    "wave_right = wave.Wave(U, unknown_value=100, wavenumber=2)\n",
    "wave_right"
   ]
  },
  {
   "cell_type": "markdown",
   "metadata": {},
   "source": [
    "The advective waves are different. The pressure must be constant across the wave, so if anything jumps it must be related to the state: either the thermodynamic variables or the equation of state:"
   ]
  },
  {
   "cell_type": "code",
   "execution_count": 7,
   "metadata": {
    "collapsed": false
   },
   "outputs": [
    {
     "data": {
      "text/latex": [
       "${\\cal C}: \\lambda^{(1)}= 0.1000$"
      ],
      "text/plain": [
       "<r3d2.wave.Wave at 0x10faad668>"
      ]
     },
     "execution_count": 7,
     "metadata": {},
     "output_type": "execute_result"
    }
   ],
   "source": [
    "eos2 = eos_defns.eos_gamma_law(4.0/3.0)\n",
    "U2 = State(2.0, U.v, -0.3, U.p/2.0*3.0, eos2)\n",
    "wave_contact = wave.Wave(U, unknown_value=U2, wavenumber=1)\n",
    "wave_contact"
   ]
  },
  {
   "cell_type": "markdown",
   "metadata": {},
   "source": [
    "For a reactive wave, we first need a reactive equation of state:"
   ]
  },
  {
   "cell_type": "code",
   "execution_count": 8,
   "metadata": {
    "collapsed": false
   },
   "outputs": [
    {
     "data": {
      "text/latex": [
       "$\\begin{pmatrix} \\rho \\\\ v_x \\\\ v_t \\\\ \\epsilon \\\\ q \\end{pmatrix}= \\begin{pmatrix} 5.0000 \\\\ 0.0000 \\\\ 0.0000 \\\\ 2.0000 \\\\ 0.1000 \\end{pmatrix}$"
      ],
      "text/plain": [
       "<r3d2.state.State at 0x10faad320>"
      ]
     },
     "execution_count": 8,
     "metadata": {},
     "output_type": "execute_result"
    }
   ],
   "source": [
    "eos_reactive = eos_defns.eos_gamma_law_react(5.0/3.0, 0.1, 1.0, 1.0, eos)\n",
    "U_reactive = State(5.0, 0.0, 0.0, 2.0, eos_reactive)\n",
    "U_reactive"
   ]
  },
  {
   "cell_type": "markdown",
   "metadata": {},
   "source": [
    "We can now connect this to states with large ($p=10$) and small ($p=0.1$) pressures again:"
   ]
  },
  {
   "cell_type": "code",
   "execution_count": 9,
   "metadata": {
    "collapsed": true
   },
   "outputs": [],
   "source": [
    "wave_1_reactive = wave.Wave(U_reactive, unknown_value=10, wavenumber=0)\n",
    "wave_2_reactive = wave.Wave(U_reactive, unknown_value=0.1, wavenumber=0)"
   ]
  },
  {
   "cell_type": "markdown",
   "metadata": {},
   "source": [
    "The analogue of the inert shock is the strong detonation:"
   ]
  },
  {
   "cell_type": "code",
   "execution_count": 10,
   "metadata": {
    "collapsed": false
   },
   "outputs": [
    {
     "data": {
      "text/latex": [
       "${\\cal SDT}_{\\leftarrow}: \\lambda^{(0)}= -0.7979$"
      ],
      "text/plain": [
       "<r3d2.wave.Wave at 0x10faad2b0>"
      ]
     },
     "execution_count": 10,
     "metadata": {},
     "output_type": "execute_result"
    }
   ],
   "source": [
    "wave_1_reactive"
   ]
  },
  {
   "cell_type": "markdown",
   "metadata": {},
   "source": [
    "The analogue of the rarefaction is the weak deflagration:"
   ]
  },
  {
   "cell_type": "code",
   "execution_count": 11,
   "metadata": {
    "collapsed": false
   },
   "outputs": [
    {
     "data": {
      "text/latex": [
       "$\\left({\\cal CJDF}_{\\leftarrow}{\\cal R}_{\\leftarrow}\\right) : \\lambda^{(0)}\\in [-0.6097, 0.7607]$"
      ],
      "text/plain": [
       "<r3d2.wave.Wave at 0x10faad198>"
      ]
     },
     "execution_count": 11,
     "metadata": {},
     "output_type": "execute_result"
    }
   ],
   "source": [
    "wave_2_reactive"
   ]
  },
  {
   "cell_type": "markdown",
   "metadata": {},
   "source": [
    "In this case we have a CJ deflagration, which is attached to a rarefaction to complete the wave."
   ]
  }
 ],
 "metadata": {
  "kernelspec": {
   "display_name": "Python 3",
   "language": "python",
   "name": "python3"
  },
  "language_info": {
   "codemirror_mode": {
    "name": "ipython",
    "version": 3
   },
   "file_extension": ".py",
   "mimetype": "text/x-python",
   "name": "python",
   "nbconvert_exporter": "python",
   "pygments_lexer": "ipython3",
   "version": "3.4.4"
  }
 },
 "nbformat": 4,
 "nbformat_minor": 0
}
