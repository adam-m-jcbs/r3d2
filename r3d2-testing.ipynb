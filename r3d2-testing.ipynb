{
 "cells": [
  {
   "cell_type": "markdown",
   "metadata": {},
   "source": [
    "# Testing r3d2\n",
    "\n",
    "Should be simple tests of `r3d2` in the notebook."
   ]
  },
  {
   "cell_type": "code",
   "execution_count": null,
   "metadata": {
    "collapsed": false
   },
   "outputs": [],
   "source": [
    "from r3d2 import State, RiemannProblem, eos_defns, wave\n",
    "from IPython.display import display, display_png, display_svg"
   ]
  },
  {
   "cell_type": "code",
   "execution_count": null,
   "metadata": {
    "collapsed": false
   },
   "outputs": [],
   "source": [
    "q_unburnt = 0.1\n",
    "gamma = 5/3\n",
    "Cv = 1.0\n",
    "t_i = 2\n",
    "eos_burnt = eos_defns.eos_gamma_law(gamma)\n",
    "eos_unburnt = eos_defns.eos_gamma_law_react(gamma, q_unburnt, Cv, t_i, eos_burnt)\n",
    "q_left = State(1, 0, 0, 2, eos_burnt)\n",
    "q_right = State(1, 0, 0, 3, eos_unburnt)\n"
   ]
  },
  {
   "cell_type": "code",
   "execution_count": null,
   "metadata": {
    "collapsed": false
   },
   "outputs": [],
   "source": [
    "rp = RiemannProblem(q_left, q_right)"
   ]
  },
  {
   "cell_type": "code",
   "execution_count": null,
   "metadata": {
    "collapsed": false
   },
   "outputs": [],
   "source": [
    "rp"
   ]
  },
  {
   "cell_type": "code",
   "execution_count": null,
   "metadata": {
    "collapsed": false
   },
   "outputs": [],
   "source": [
    "display_png(rp)"
   ]
  },
  {
   "cell_type": "markdown",
   "metadata": {},
   "source": [
    "## Inert tests"
   ]
  },
  {
   "cell_type": "code",
   "execution_count": null,
   "metadata": {
    "collapsed": false
   },
   "outputs": [],
   "source": [
    "eos = eos_defns.eos_gamma_law(5.0/3.0)\n",
    "test_1_w_left = State(10.0, 0.0, 0.0, 2.0, eos, label=\"L\")\n",
    "test_1_w_right = State(1.0, 0.0, 0.0, 1.5e-6, eos, label=\"R\")\n",
    "test_1_rp = RiemannProblem(test_1_w_left, test_1_w_right)\n",
    "test_2_w_left = State(1.0, 0.0, 0.0, 1500.0, eos, label=\"L\")\n",
    "test_2_w_right = State(1.0, 0.0, 0.0, 1.5e-2, eos, label=\"R\")\n",
    "test_2_rp = RiemannProblem(test_2_w_left, test_2_w_right)\n",
    "test_3_w_left = State(1.0, 0.0, 0.0, 1500, eos, label=\"L\")\n",
    "test_3_w_right = State(1.0, 0.0, 0.99, 0.015, eos, label=\"R\")\n",
    "test_3_rp = RiemannProblem(test_3_w_left, test_3_w_right)\n",
    "test_4_w_left = State(1.0, 0.0, 0.9, 1500, eos, label=\"L\")\n",
    "test_4_w_right = State(1.0, 0.0, 0.9, 0.015, eos, label=\"R\")\n",
    "test_4_rp = RiemannProblem(test_4_w_left, test_4_w_right);"
   ]
  },
  {
   "cell_type": "code",
   "execution_count": null,
   "metadata": {
    "collapsed": false
   },
   "outputs": [],
   "source": [
    "for i in test_1_rp, test_2_rp, test_3_rp, test_4_rp:\n",
    "    display(i)\n",
    "    display_png(i)"
   ]
  }
 ],
 "metadata": {
  "kernelspec": {
   "display_name": "Python 3",
   "language": "python",
   "name": "python3"
  },
  "language_info": {
   "codemirror_mode": {
    "name": "ipython",
    "version": 3
   },
   "file_extension": ".py",
   "mimetype": "text/x-python",
   "name": "python",
   "nbconvert_exporter": "python",
   "pygments_lexer": "ipython3",
   "version": "3.4.4"
  }
 },
 "nbformat": 4,
 "nbformat_minor": 0
}
